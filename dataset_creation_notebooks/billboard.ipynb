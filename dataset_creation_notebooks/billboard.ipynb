{
 "cells": [
  {
   "cell_type": "code",
   "execution_count": 76,
   "id": "3ab6ca0b-8f23-4b09-8f3c-26463e7b5dca",
   "metadata": {},
   "outputs": [],
   "source": [
    "from bs4 import BeautifulSoup\n"
   ]
  },
  {
   "cell_type": "code",
   "execution_count": 155,
   "id": "136679ef-7225-4c25-84a4-d52ba9991513",
   "metadata": {},
   "outputs": [],
   "source": [
    "import os\n",
    "from bs4 import BeautifulSoup\n",
    "import csv\n",
    "\n",
    "# Specify the folder containing your HTML files\n",
    "folder_path = 'billboard'  # Update this path\n",
    "\n",
    "# Prepare a list to hold all album data\n",
    "all_albums_data = []\n",
    "\n",
    "\n",
    "for filename in os.listdir(folder_path):\n",
    "    file_path = os.path.join(folder_path, filename)\n",
    "    \n",
    "    # Open and read the HTML file\n",
    "    with open(file_path, 'r', encoding='utf-8') as file:\n",
    "        html_content = file.read()\n",
    "    \n",
    "    soup = BeautifulSoup(html_content, 'html.parser')\n",
    "\n",
    "    for album_container in soup.find_all('div', class_=\"o-chart-results-list-row-container\"):\n",
    "        # Find the artist name\n",
    "        artist_element = album_container.find('span', class_='c-label')\n",
    "        rank = artist_element.text.strip() if artist_element else \"No artist name found\"\n",
    "        album_and_artist_container = album_container.find('li', class_=\"lrv-u-width-100p\")\n",
    "        \n",
    "        if album_and_artist_container:\n",
    "            # Find the album name\n",
    "            album_name_element = album_and_artist_container.find('h3', class_='c-title')\n",
    "            album_name = album_name_element.text.strip() if album_name_element else \"No album name found\"\n",
    "            \n",
    "            # Find the artist name, which should be right after the album name\n",
    "            artist_name_element = album_and_artist_container.find('span', class_='c-label')\n",
    "            artist_name = artist_name_element.text.strip() if artist_name_element else \"No artist name found\"\n",
    "        else:\n",
    "            album_name = \"No album name found\"\n",
    "            artist_name = \"No artist name found\"\n",
    "    \n",
    "        \n",
    "        # Find the album name\n",
    "        album_name_element = album_container.find('h3', class_='c-title')\n",
    "        album_name = album_name_element.text.strip() if album_name_element else \"No album name found\"\n",
    "        \n",
    "        # Find the image URL\n",
    "        img_element = album_container.find('img', class_='c-lazy-image__img')\n",
    "        image_url = img_element['src'] if img_element else \"No image URL found\"\n",
    "        \n",
    "        # Append the extracted info to the albums_info list\n",
    "        all_albums_data.append({\n",
    "            'year' : filename.replace('.html',''),\n",
    "            'rank': rank,\n",
    "            'artist_name': artist_name,\n",
    "            'album_name': album_name,\n",
    "            'image_url': image_url\n",
    "        })"
   ]
  },
  {
   "cell_type": "code",
   "execution_count": 156,
   "id": "246efd77-d03c-40de-94ba-422df73a1de8",
   "metadata": {},
   "outputs": [
    {
     "name": "stdout",
     "output_type": "stream",
     "text": [
      "CSV file has been created with the album data.\n"
     ]
    }
   ],
   "source": [
    "csv_file_path = 'billboard_albums_data.csv'  # Update this path\n",
    "with open(csv_file_path, 'w', newline='', encoding='utf-8') as csv_file:\n",
    "    fieldnames = ['year','rank','artist_name', 'album_name', 'image_url']\n",
    "    writer = csv.DictWriter(csv_file, fieldnames=fieldnames)\n",
    "    \n",
    "    writer.writeheader()\n",
    "    for album_data in all_albums_data:\n",
    "        writer.writerow(album_data)\n",
    "\n",
    "print(\"CSV file has been created with the album data.\")"
   ]
  },
  {
   "cell_type": "code",
   "execution_count": 116,
   "id": "ec36b346-c960-4fe7-98b5-e3de0251c5cd",
   "metadata": {},
   "outputs": [
    {
     "data": {
      "text/plain": [
       "1581"
      ]
     },
     "execution_count": 116,
     "metadata": {},
     "output_type": "execute_result"
    }
   ],
   "source": [
    "len(all_albums_data)"
   ]
  },
  {
   "cell_type": "code",
   "execution_count": null,
   "id": "ba5be003-7aa2-4761-bee1-859e9b9a6c94",
   "metadata": {},
   "outputs": [],
   "source": []
  }
 ],
 "metadata": {
  "kernelspec": {
   "display_name": "Python 3 (ipykernel)",
   "language": "python",
   "name": "python3"
  },
  "language_info": {
   "codemirror_mode": {
    "name": "ipython",
    "version": 3
   },
   "file_extension": ".py",
   "mimetype": "text/x-python",
   "name": "python",
   "nbconvert_exporter": "python",
   "pygments_lexer": "ipython3",
   "version": "3.12.1"
  }
 },
 "nbformat": 4,
 "nbformat_minor": 5
}
